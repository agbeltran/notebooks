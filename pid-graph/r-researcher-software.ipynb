{
  "cells": [
    {
      "cell_type": "markdown",
      "source": [
        "# Software packages by researcher\n",
        "\n",
        "This notebook uses the [DataCite GraphQL API](https://api.datacite.org/graphql) to fetch all software packages authored by a particular researcher, using his/her ORCID ID."
      ],
      "metadata": {}
    },
    {
      "cell_type": "code",
      "source": [
        "# Prepare the R graphql client.\n",
        "\n",
        "library(\"httr\")\n",
        "library(\"ghql\")\n",
        "library(\"jsonlite\")\n",
        "library(\"IRdisplay\")\n",
        "\n",
        "cli <- GraphqlClient$new(\n",
        "  url = \"https://api.datacite.org/graphql\"\n",
        ")\n",
        "qry <- Query$new()"
      ],
      "outputs": [],
      "execution_count": 88,
      "metadata": {
        "collapsed": false,
        "outputHidden": false,
        "inputHidden": false
      }
    },
    {
      "cell_type": "code",
      "source": [
        "# Generate the GraphQL query: find the researcher by ORCID ID, then fetch all software with DataCite DOIs linked to that ORCID account.\n",
        "\n",
        "query <- '{\n",
        "   researcher(id: \"https://orcid.org/0000-0003-1444-9135\") {\n",
        "    name\n",
        "    softwares {\n",
        "      totalCount\n",
        "      nodes {\n",
        "        id\n",
        "        creators {\n",
        "          name\n",
        "        }\n",
        "        titles {\n",
        "          title\n",
        "        }\n",
        "        publisher\n",
        "        publicationYear\n",
        "        relatedIdentifiers {\n",
        "          relationType\n",
        "          relatedIdentifier\n",
        "        }\n",
        "      }\n",
        "    }\n",
        "  }\n",
        "}'"
      ],
      "outputs": [],
      "execution_count": 89,
      "metadata": {
        "collapsed": false,
        "outputHidden": false,
        "inputHidden": false
      }
    },
    {
      "cell_type": "code",
      "source": [
        "# Run the query and parse the JSON response\n",
        "\n",
        "qry$query('getdata', query)\n",
        "data <- fromJSON(cli$exec(qry$queries$getdata))"
      ],
      "outputs": [],
      "execution_count": 90,
      "metadata": {
        "collapsed": false,
        "outputHidden": false,
        "inputHidden": false
      }
    },
    {
      "cell_type": "code",
      "source": [
        "# Get the name of the researcher with ORCID ID https://orcid.org/0000-0003-1444-9135.\n",
        "\n",
        "display_text(data$data$researcher$name)"
      ],
      "outputs": [
        {
          "output_type": "stream",
          "name": "stderr",
          "text": [
            "Scott A Chamberlain\n"
          ]
        }
      ],
      "execution_count": 91,
      "metadata": {
        "collapsed": false,
        "outputHidden": false,
        "inputHidden": false
      }
    },
    {
      "cell_type": "code",
      "source": [
        "# Return the software packages as data frame, with the fields specified in the query\n",
        "\n",
        "softwares <- data$data$researcher$softwares$nodes\n",
        "softwares"
      ],
      "outputs": [
        {
          "output_type": "display_data",
          "data": {
            "text/html": [
              "<table>\n",
              "<caption>A data.frame: 2 × 6</caption>\n",
              "<thead>\n",
              "\t<tr><th scope=col>id</th><th scope=col>creators</th><th scope=col>titles</th><th scope=col>publisher</th><th scope=col>publicationYear</th><th scope=col>relatedIdentifiers</th></tr>\n",
              "\t<tr><th scope=col>&lt;chr&gt;</th><th scope=col>&lt;list&gt;</th><th scope=col>&lt;list&gt;</th><th scope=col>&lt;chr&gt;</th><th scope=col>&lt;int&gt;</th><th scope=col>&lt;list&gt;</th></tr>\n",
              "</thead>\n",
              "<tbody>\n",
              "\t<tr><td>https://doi.org/10.5281/zenodo.1183666</td><td>Foster, Zachary   , Chamberlain, Scott, Grunwald, Niklaus </td><td>Taxa V0.2.0</td><td>Zenodo</td><td>2017</td><td>HasVersion            , 10.5281/zenodo.1183667</td></tr>\n",
              "\t<tr><td>https://doi.org/10.5281/zenodo.1183667</td><td>Foster, Zachary   , Chamberlain, Scott, Grunwald, Niklaus </td><td>Taxa V0.2.0</td><td>Zenodo</td><td>2017</td><td>IsVersionOf           , 10.5281/zenodo.1183666</td></tr>\n",
              "</tbody>\n",
              "</table>\n"
            ],
            "text/markdown": [
              "\n",
              "A data.frame: 2 × 6\n",
              "\n",
              "| id &lt;chr&gt; | creators &lt;list&gt; | titles &lt;list&gt; | publisher &lt;chr&gt; | publicationYear &lt;int&gt; | relatedIdentifiers &lt;list&gt; |\n",
              "|---|---|---|---|---|---|\n",
              "| https://doi.org/10.5281/zenodo.1183666 | Foster, Zachary   , Chamberlain, Scott, Grunwald, Niklaus  | Taxa V0.2.0 | Zenodo | 2017 | HasVersion            , 10.5281/zenodo.1183667 |\n",
              "| https://doi.org/10.5281/zenodo.1183667 | Foster, Zachary   , Chamberlain, Scott, Grunwald, Niklaus  | Taxa V0.2.0 | Zenodo | 2017 | IsVersionOf           , 10.5281/zenodo.1183666 |\n",
              "\n"
            ],
            "text/latex": [
              "A data.frame: 2 × 6\n",
              "\\begin{tabular}{r|llllll}\n",
              " id & creators & titles & publisher & publicationYear & relatedIdentifiers\\\\\n",
              " <chr> & <list> & <list> & <chr> & <int> & <list>\\\\\n",
              "\\hline\n",
              "\t https://doi.org/10.5281/zenodo.1183666 & Foster, Zachary   , Chamberlain, Scott, Grunwald, Niklaus  & Taxa V0.2.0 & Zenodo & 2017 & HasVersion            , 10.5281/zenodo.1183667\\\\\n",
              "\t https://doi.org/10.5281/zenodo.1183667 & Foster, Zachary   , Chamberlain, Scott, Grunwald, Niklaus  & Taxa V0.2.0 & Zenodo & 2017 & IsVersionOf           , 10.5281/zenodo.1183666\\\\\n",
              "\\end{tabular}\n"
            ],
            "text/plain": [
              "  id                                    \n",
              "1 https://doi.org/10.5281/zenodo.1183666\n",
              "2 https://doi.org/10.5281/zenodo.1183667\n",
              "  creators                                                   titles     \n",
              "1 Foster, Zachary   , Chamberlain, Scott, Grunwald, Niklaus  Taxa V0.2.0\n",
              "2 Foster, Zachary   , Chamberlain, Scott, Grunwald, Niklaus  Taxa V0.2.0\n",
              "  publisher publicationYear relatedIdentifiers                            \n",
              "1 Zenodo    2017            HasVersion            , 10.5281/zenodo.1183667\n",
              "2 Zenodo    2017            IsVersionOf           , 10.5281/zenodo.1183666"
            ]
          },
          "metadata": {}
        }
      ],
      "execution_count": 92,
      "metadata": {
        "collapsed": false,
        "outputHidden": false,
        "inputHidden": false
      }
    },
    {
      "cell_type": "code",
      "source": [
        "# Generate a list of formatted citations in APA format for these software packages\n",
        "\n",
        "ids <- softwares[,1]\n",
        "ids <- substr(ids, 17, 100)\n",
        "ids <- paste(ids, collapse = ',')\n",
        "url <- paste('https://api.datacite.org/dois?style=apa&ids=', ids, sep = '')\n",
        "response <- GET(url, accept(\"text/x-bibliography\"))\n",
        "display_markdown(content(response, as = 'text'))          "
      ],
      "outputs": [
        {
          "output_type": "display_data",
          "data": {
            "text/markdown": [
              "Foster, Z., Chamberlain, S., &amp; Grunwald, N. (2017, December 19). Taxa V0.2.0. Zenodo. https://doi.org/10.5281/ZENODO.1183666\n",
              "\n",
              "Foster, Z., Chamberlain, S., &amp; Grunwald, N. (2017, December 19). Taxa V0.2.0. Zenodo. https://doi.org/10.5281/ZENODO.1183667"
            ]
          },
          "metadata": {}
        }
      ],
      "execution_count": 94,
      "metadata": {
        "collapsed": false,
        "outputHidden": false,
        "inputHidden": false
      }
    }
  ],
  "metadata": {
    "kernel_info": {
      "name": "ir"
    },
    "language_info": {
      "name": "R",
      "codemirror_mode": "r",
      "pygments_lexer": "r",
      "mimetype": "text/x-r-source",
      "file_extension": ".r",
      "version": "3.6.0"
    },
    "kernelspec": {
      "name": "ir",
      "language": "R",
      "display_name": "R"
    },
    "nteract": {
      "version": "0.14.3"
    }
  },
  "nbformat": 4,
  "nbformat_minor": 0
}