{
  "cells": [
    {
      "cell_type": "markdown",
      "source": [
        "# Publication references by researcher\n",
        "\n",
        "This notebook uses the [DataCite GraphQL API](https://api.datacite.org/graphql) to fetch all DataCite references of the DataCite publications authored by a particular researcher, using his/her ORCID ID."
      ],
      "metadata": {}
    },
    {
      "cell_type": "code",
      "source": [
        "# Prepare the R graphql client.\n",
        "\n",
        "library(\"httr\")\n",
        "library(\"ghql\")\n",
        "library(\"jsonlite\")\n",
        "library(\"IRdisplay\")\n",
        "library(\"dplyr\")\n",
        "\n",
        "cli <- GraphqlClient$new(\n",
        "  url = \"https://api.datacite.org/graphql\"\n",
        ")\n",
        "qry <- Query$new()"
      ],
      "outputs": [],
      "execution_count": 49,
      "metadata": {
        "collapsed": false,
        "outputHidden": false,
        "inputHidden": false
      }
    },
    {
      "cell_type": "code",
      "source": [
        "# Generate the GraphQL query: find the researcher by ORCID ID, then fetch all publications with DataCite DOIs linked to that ORCID account.\n",
        "\n",
        "query <- '{\n",
        "   researcher(id: \"https://orcid.org/0000-0003-1419-2405\") {\n",
        "    name\n",
        "    publications(first: 100) {\n",
        "      totalCount\n",
        "      nodes {\n",
        "        id\n",
        "        relatedIdentifiers {\n",
        "          relationType\n",
        "          relatedIdentifier\n",
        "          relatedIdentifierType\n",
        "        }\n",
        "      }\n",
        "    }\n",
        "  }\n",
        "}'"
      ],
      "outputs": [],
      "execution_count": 50,
      "metadata": {
        "collapsed": false,
        "outputHidden": false,
        "inputHidden": false
      }
    },
    {
      "cell_type": "code",
      "source": [
        "# Run the query and parse the JSON response\n",
        "\n",
        "qry$query('getdata', query)\n",
        "data <- fromJSON(cli$exec(qry$queries$getdata))"
      ],
      "outputs": [],
      "execution_count": 51,
      "metadata": {
        "collapsed": false,
        "outputHidden": false,
        "inputHidden": false
      }
    },
    {
      "cell_type": "code",
      "source": [
        "# Get the name of the researcher with ORCID ID https://orcid.org/0000-0003-1419-2405\n",
        "\n",
        "display_markdown(data$data$researcher$name)"
      ],
      "outputs": [
        {
          "output_type": "display_data",
          "data": {
            "text/markdown": [
              "Martin Fenner"
            ]
          },
          "metadata": {}
        }
      ],
      "execution_count": 52,
      "metadata": {
        "collapsed": false,
        "outputHidden": false,
        "inputHidden": false
      }
    },
    {
      "cell_type": "code",
      "source": [
        "# Get the number of publications\n",
        "\n",
        "display_json(data$data$researcher$publications$totalCount)"
      ],
      "outputs": [
        {
          "output_type": "display_data",
          "data": {
            "application/json": 73
          },
          "metadata": {}
        }
      ],
      "execution_count": 53,
      "metadata": {
        "collapsed": false,
        "outputHidden": false,
        "inputHidden": false
      }
    },
    {
      "cell_type": "code",
      "source": [
        "# Get the relatedIdentifiers for all publications, only show relationType 'References' and only DOIs\n",
        "\n",
        "relatedIdentifiers <- unique(bind_rows(data$data$researcher$publications$nodes$relatedIdentifiers)) %>% filter(relationType == 'References', relatedIdentifierType == 'DOI')\n",
        "\n",
        "# Generate a list of formatted citations in APA format for these references (if they are DataCite DOIs)\n",
        "\n",
        "ids <- relatedIdentifiers[,2]\n",
        "ids <- paste(ids, collapse = ',')\n",
        "url <- paste('https://api.datacite.org/dois?style=apa&page[size]=250&sort=created&ids=', ids, sep = '')\n",
        "response <- GET(url, accept(\"text/x-bibliography\"))\n",
        "display_markdown(content(response, as = 'text'))    "
      ],
      "outputs": [
        {
          "output_type": "display_data",
          "data": {
            "text/markdown": [
              "Boden, T., Marland, G., &amp; Andres, R. (2009). <i>Global, Regional, and National Fossil-Fuel CO2 Emissions, 1751 - 2006 (published 2009)</i> [Data set]. Environmental System Science Data Infrastructure for a Virtual Ecosystem; Carbon Dioxide Information Analysis Center (CDIAC), Oak Ridge National Laboratory (ORNL), Oak Ridge, TN (United States). https://doi.org/10.3334/CDIAC/00001\n",
              "\n",
              "Unbekannt. (1931). <i>Hannover, Blick auf Hannover</i>. ETH-Bibliothek Zürich, Bildarchiv. https://doi.org/10.3932/ETHZ-A-000159123\n",
              "\n",
              "DataCite Metadata Working Group. (2014). DataCite Metadata Schema for the Publication and Citation of Research Data v3.1. <i>DataCite E.V.</i> https://doi.org/10.5438/0010\n",
              "\n",
              "Bilder, G., Lin, J., &amp; Neylon, C. (2015). <i>Principles for Open Scholarly Infrastructures-v1</i> [Data set]. Figshare. https://doi.org/10.6084/M9.FIGSHARE.1314859\n",
              "\n",
              "Fenner, M., Demeranville, T., Kotarski, R., Vision, T., Rueda, L., Dasler, R., … Cruse, P. (2015). <i>D2.1: Artefact, Contributor, And Organisation Relationship Data Schema</i>. Zenodo. https://doi.org/10.5281/ZENODO.30799\n",
              "\n",
              "Mayo, C., Hull, E. A., &amp; Vision, T. J. (2015). The Location Of The Citation: Changing Practices In How Publications Cite Original Data In The Dryad Digital Repository. <i>Zenodo</i>. https://doi.org/10.5281/ZENODO.32412\n",
              "\n",
              "Dasler, R. (2016). <i>Thor: Metrics And Tools</i>. Zenodo. https://doi.org/10.5281/ZENODO.46761\n",
              "\n",
              "Fenner, M., Wass, J., Song, J., Dennis, Z., Whitwell, M., Osowski, J., … Chodacki, J. (2016, April 12). Lagotto 5.0.1. Zenodo. https://doi.org/10.5281/ZENODO.49516\n",
              "\n",
              "Demeranville, T., Brown, J., Fenner, M., Cruse, P., Haak, L., Paglione, L., … Pentz, E. (2016). <i>Organisation Identifiers - Minimum viable product requirements</i> [Data set]. Figshare. https://doi.org/10.6084/M9.FIGSHARE.3479141\n",
              "\n",
              "DataCite Metadata Working Group. (2016). DataCite Metadata Schema Documentation for the Publication and Citation of Research Data v4.0. <i>DataCite E.V.</i> https://doi.org/10.5438/0012\n",
              "\n",
              "Bilder, G., Brown, J., &amp; Demeranville, T. (2016). <i>Organisation identifiers: current provider survey</i>. ORCID. https://doi.org/10.5438/4716\n",
              "\n",
              "Fenner, M., Paglione, L., Demeranville, T., &amp; Bilder, G. (2016). <i>Technical Considerations for an Organization Identifier Registry</i>. ORCID. https://doi.org/10.5438/7885\n",
              "\n",
              "Cruse, P., Haak, L., &amp; Pentz, E. (2016). <i>Organization Identifier Project: A Way Forward</i>. ORCID. https://doi.org/10.5438/2906\n",
              "\n",
              "Fenner, M. (2016). Eating your own Dog Food. https://doi.org/10.5438/4K3M-NYVG\n",
              "\n",
              "Hull, E. (2016). The Location of the Citation: are Data Citation Recommendations Having an Effect? https://doi.org/10.5438/F17B-45VZ\n",
              "\n",
              "Fenner, M. (2016). Cool DOI's. https://doi.org/10.5438/55E5-T5C0\n",
              "\n",
              "Fenner, M. (2016). Announcing the Organization Identifier Project: a Way Forward. https://doi.org/10.5438/TNHX-54CG\n",
              "\n",
              "Cruse, P., Rueda, L., Garza, K., &amp; Fenner, M. (2015, August 3). DataCite Blog (Version 1.0). DataCite. https://doi.org/10.5438/0000-00SS\n",
              "\n",
              "Data Citation Synthesis Group. (2014). <i>Joint Declaration of Data Citation Principles</i>. Force11. https://doi.org/10.25490/A97F-EGYK\n",
              "\n",
              "DataCite Metadata Working Group. (2017). DataCite Metadata Schema Documentation for the Publication and Citation of Research Data v4.1. <i>DataCite</i>. https://doi.org/10.5438/0014\n",
              "\n",
              "Fenner, M. (2017). Article-Data Linking Workshop November 2016. https://doi.org/10.5281/ZENODO.1063636\n",
              "\n",
              "Fenner, M., Crosas, M., Durand, G., Wimalaratne, S., Gräf, F., Hallett, R., … Clark, T. (2018). <i>Listing Of Data Repositories That Embed Schema.Org Metadata In Dataset Landing Pages</i> [Data set]. Zenodo. https://doi.org/10.5281/ZENODO.1263942\n",
              "\n",
              "Lowenberg, D., Budden, A., &amp; Cruse, P. (2018). It’s Time to Make Your Data Count! https://doi.org/10.5438/PRE3-2F25\n",
              "\n",
              "Dasler, R., &amp; Cousijn, H. (2018). Are your data being used? Event Data has the answer! <i>DataCite Blog</i>. https://doi.org/10.5438/S6D3-K860\n",
              "\n",
              "Dasler, R. (2018). DataCite 2018 Wrap-up and 2019 Preview. https://doi.org/10.5438/BCKB-QY95\n",
              "\n",
              "Fenner, M. (2018). Introducing DataCite JSON. https://doi.org/10.5438/1PCA-1Y05\n",
              "\n",
              "Ioannidis, A., &amp; Gonzalez Lopez, J. B. (2019). Asclepias: Flower Power for Software Citation. https://doi.org/10.5281/ZENODO.2548643\n",
              "\n",
              "Manghi, P., &amp; Bardi, A. (2019). The OpenAIRE Research Graph - Opportunities and challenges for science. https://doi.org/10.5281/ZENODO.2600275"
            ]
          },
          "metadata": {}
        }
      ],
      "execution_count": 69,
      "metadata": {
        "collapsed": false,
        "outputHidden": false,
        "inputHidden": false
      }
    },
    {
      "cell_type": "code",
      "source": [],
      "outputs": [],
      "execution_count": 70,
      "metadata": {
        "collapsed": false,
        "outputHidden": false,
        "inputHidden": false
      }
    }
  ],
  "metadata": {
    "kernel_info": {
      "name": "ir"
    },
    "language_info": {
      "name": "R",
      "codemirror_mode": "r",
      "pygments_lexer": "r",
      "mimetype": "text/x-r-source",
      "file_extension": ".r",
      "version": "3.6.0"
    },
    "kernelspec": {
      "name": "ir",
      "language": "R",
      "display_name": "R"
    },
    "nteract": {
      "version": "0.14.3"
    }
  },
  "nbformat": 4,
  "nbformat_minor": 0
}