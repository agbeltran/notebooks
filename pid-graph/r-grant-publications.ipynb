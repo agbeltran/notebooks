{
  "cells": [
    {
      "cell_type": "markdown",
      "source": [
        "# PID Graph for FREYA-funded publications\n",
        "\n",
        "This notebook uses the [DataCite GraphQL API](https://api.datacite.org/graphql) to fetch all publications with a DataCite DOI funded by the FREYA grant."
      ],
      "metadata": {}
    },
    {
      "cell_type": "code",
      "source": [
        "# Prepare the R graphql client.\n",
        "\n",
        "library(\"httr\")\n",
        "library(\"ghql\")\n",
        "library(\"jsonlite\")\n",
        "library(\"IRdisplay\")\n",
        "library(\"dplyr\")\n",
        "library(\"igraph\")\n",
        "\n",
        "cli <- GraphqlClient$new(\n",
        "  url = \"https://api.datacite.org/graphql\"\n",
        ")\n",
        "qry <- Query$new()"
      ],
      "outputs": [
        {
          "output_type": "stream",
          "name": "stderr",
          "text": [
            "\n",
            "Attaching package: 'dplyr'\n",
            "\n",
            "The following objects are masked from 'package:stats':\n",
            "\n",
            "    filter, lag\n",
            "\n",
            "The following objects are masked from 'package:base':\n",
            "\n",
            "    intersect, setdiff, setequal, union\n",
            "\n",
            "\n",
            "Attaching package: 'igraph'\n",
            "\n",
            "The following objects are masked from 'package:dplyr':\n",
            "\n",
            "    as_data_frame, groups, union\n",
            "\n",
            "The following objects are masked from 'package:stats':\n",
            "\n",
            "    decompose, spectrum\n",
            "\n",
            "The following object is masked from 'package:base':\n",
            "\n",
            "    union\n",
            "\n"
          ]
        }
      ],
      "execution_count": 1,
      "metadata": {
        "collapsed": false,
        "outputHidden": false,
        "inputHidden": false
      }
    },
    {
      "cell_type": "code",
      "source": [
        "query <- '{\n",
        "  publications(query: \"fundingReferences.awardNumber:777523\") {\n",
        "    totalCount\n",
        "    nodes {\n",
        "      id\n",
        "      creators {\n",
        "        id\n",
        "      }\n",
        "      relatedIdentifiers {\n",
        "        relatedIdentifier\n",
        "      }\n",
        "      fundingReferences {\n",
        "        funderIdentifier\n",
        "      }\n",
        "    }\n",
        "  }\n",
        "  datasets(query: \"fundingReferences.awardNumber:777523\") {\n",
        "    totalCount\n",
        "    nodes {\n",
        "      id\n",
        "      creators {\n",
        "        id\n",
        "      }\n",
        "      relatedIdentifiers {\n",
        "        relatedIdentifier\n",
        "      }\n",
        "      fundingReferences {\n",
        "        funderIdentifier\n",
        "      }\n",
        "    }\n",
        "  }\n",
        "}'"
      ],
      "outputs": [],
      "execution_count": 2,
      "metadata": {
        "collapsed": false,
        "outputHidden": false,
        "inputHidden": false
      }
    },
    {
      "cell_type": "code",
      "source": [
        "# Run the query and parse the JSON response\n",
        "\n",
        "qry$query('getdata', query)\n",
        "data <- fromJSON(cli$exec(qry$queries$getdata))"
      ],
      "outputs": [
        {
          "output_type": "error",
          "ename": "ERROR",
          "evalue": "Error in parse(text = x, srcfile = src): <text>:5:27: Unerwartete(s) ','\n4: data <- fromJSON(cli$exec(qry$queries$getdata))\n5: flat <- flatten(data$data),\n                             ^\n",
          "traceback": [
            "Error in parse(text = x, srcfile = src): <text>:5:27: Unerwartete(s) ','\n4: data <- fromJSON(cli$exec(qry$queries$getdata))\n5: flat <- flatten(data$data),\n                             ^\nTraceback:\n"
          ]
        }
      ],
      "execution_count": 3,
      "metadata": {
        "collapsed": false,
        "outputHidden": false,
        "inputHidden": false
      }
    },
    {
      "cell_type": "code",
      "source": [
        "# Get the number of publications and datasets\n",
        "\n",
        "display_json(data$data$publications$totalCount)\n",
        "display_json(data$data$datasets$totalCount)"
      ],
      "outputs": [],
      "execution_count": null,
      "metadata": {
        "collapsed": false,
        "outputHidden": false,
        "inputHidden": false
      }
    },
    {
      "cell_type": "code",
      "source": [
        "# generate data frame for nodes\n",
        "publications <- data.frame(id=data$data$publications$nodes$id, pid_type=c('publication'))\n",
        "datasets <- data.frame(id=data$data$datasets$nodes$id, pid_type=c('dataset'))\n",
        "researchers <- data.frame(id=bind_rows(data$data$publications$nodes$creators)[,1], pid_type=c('researcher'))\n",
        "researchers <- researchers %>% filter(!is.na(as.character(id)))\n",
        "dataset_researchers <- data.frame(id=bind_rows(data$data$datasets$nodes$creators)[,1], pid_type=c('researcher'))\n",
        "dataset_researchers <- dataset_researchers %>% filter(!is.na(as.character(id)))\n",
        "references <- data.frame(id=bind_rows(data$data$publications$nodes$relatedIdentifiers)[,1], pid_type=c('publication'))\n",
        "references <- references %>% filter(!is.na(as.character(id))) %>% mutate(id = ifelse(startsWith(as.character(id), '10.'), paste('https://doi.org/', id, sep=''), as.character(id)))\n",
        "dataset_references <- data.frame(id=bind_rows(data$data$datasets$nodes$relatedIdentifiers)[,1], pid_type=c('publication'))\n",
        "dataset_references <- dataset_references %>% filter(!is.na(as.character(id))) %>% mutate(id = ifelse(startsWith(as.character(id), '10.'), paste('https://doi.org/', id, sep=''), as.character(id)))\n",
        "funders <- data.frame(id=bind_rows(data$data$publications$nodes$fundingReferences)[,1], pid_type=c('funder'))\n",
        "datset_funders <- data.frame(id=bind_rows(data$data$datasets$nodes$fundingReferences)[,1], pid_type=c('funder'))\n",
        "nodes <- rbind(publications, datasets, researchers, dataset_researchers, references, dataset_references, funders, datset_funders)\n",
        "\n",
        "# remove duplicates\n",
        "nodes <- nodes %>% distinct(id, .keep_all = TRUE)\n",
        "\n",
        "# loop through nodes, as they can have more than one edge\n",
        "edges <- data.frame(to=character(), from=character())\n",
        "nodes_with_creators <- bind_rows(data$data$publications$nodes) %>% filter(lengths(creators) != 0)\n",
        "for (i in 1:nrow(nodes_with_creators)) {\n",
        "  row <- data.frame(to=unlist(nodes_with_creators[i,2]), from=nodes_with_creators[i,1])\n",
        "  edges <- unique(rbind(edges, row))\n",
        "}\n",
        "dataset_nodes_with_creators <- bind_rows(data$data$datasets$nodes) %>% filter(lengths(creators) != 0)\n",
        "for (i in 1:nrow(dataset_nodes_with_creators)) {\n",
        "  row <- data.frame(to=unlist(dataset_nodes_with_creators[i,2]), from=dataset_nodes_with_creators[i,1])\n",
        "  edges <- unique(rbind(edges, row))\n",
        "}\n",
        "\n",
        "nodes_with_references <- bind_rows(data$data$publications$nodes) %>% filter(lengths(relatedIdentifiers) != 0)\n",
        "for (i in 1:nrow(nodes_with_references)) {\n",
        "  row <- data.frame(to=unlist(nodes_with_references[i,3]), from=nodes_with_references[i,1])\n",
        "  edges <- unique(rbind(edges, row))\n",
        "}\n",
        "dataset_nodes_with_references <- bind_rows(data$data$datasets$nodes) %>% filter(lengths(relatedIdentifiers) != 0)\n",
        "for (i in 1:nrow(dataset_nodes_with_references)) {\n",
        "  row <- data.frame(to=unlist(dataset_nodes_with_references[i,3]), from=dataset_nodes_with_references[i,1])\n",
        "  edges <- unique(rbind(edges, row))\n",
        "}\n",
        "\n",
        "nodes_with_dataset_references <- bind_rows(data$data$datasets$nodes) %>% filter(lengths(relatedIdentifiers) != 0)\n",
        "for (i in 1:nrow(nodes_with_dataset_references)) {\n",
        "  row <- data.frame(to=unlist(nodes_with_dataset_references[i,3]), from=nodes_with_dataset_references[i,1])\n",
        "  edges <- unique(rbind(edges, row))\n",
        "}\n",
        "\n",
        "nodes_with_funding <- bind_rows(data$data$publications$nodes) %>% filter(lengths(fundingReferences) != 0)\n",
        "for (i in 1:nrow(nodes_with_funding)) {\n",
        "  row <- data.frame(to=unlist(nodes_with_funding[i,4]), from=nodes_with_funding[i,1])\n",
        "  edges <- unique(rbind(edges, row))\n",
        "}\n",
        "dataset_nodes_with_funding <- bind_rows(data$data$datasets$nodes) %>% filter(lengths(fundingReferences) != 0)\n",
        "for (i in 1:nrow(dataset_nodes_with_funding)) {\n",
        "  row <- data.frame(to=unlist(dataset_nodes_with_funding[i,4]), from=dataset_nodes_with_funding[i,1])\n",
        "  edges <- unique(rbind(edges, row))\n",
        "}\n",
        "\n",
        "# express DOIs as URLs\n",
        "edges <- edges %>% filter(!is.na(as.character(to))) %>% mutate(to = ifelse(startsWith(as.character(to), '10.'), paste('https://doi.org/', to, sep=''), as.character(to)))\n",
        "\n",
        "g <- graph_from_data_frame(d=edges, vertices=nodes)\n",
        "\n",
        "# Node colors\n",
        "col = c('#e45718','#fecf59','#48b1f4','#53c48c')\n",
        "V(g)[(V(g)$pid_type==\"publication\")]$color<-'#48b1f4'\n",
        "V(g)[(V(g)$pid_type==\"researcher\")]$color<-'#53c48c'\n",
        "V(g)[(V(g)$pid_type==\"funder\")]$color<-'#fecf59'\n",
        "V(g)[(V(g)$pid_type==\"dataset\")]$color<-'#e45718'\n",
        "\n",
        "# add labels to selected nodes\n",
        "V(g)$label=NA\n",
        "#V(g)[(V(g)$id==\"https://doi.org/10.5281/zenodo.1202173\")]$label<-\"B\"\n",
        "#V(g)[(V(g)$pid_type==\"funder\")]$label <- \"A\"\n",
        "#V(g)[(V(g)$pid_type==\"funder\")]$label.dist <- 1\n",
        "\n",
        "V(g)$size <- 6\n",
        "E(g)$arrow.mode <- 0\n",
        "l <- layout_with_dh(g)\n",
        "plot(g, layout=l, arrow.mode=0)\n",
        "\n",
        "# Add a legend\n",
        "legend(\"bottomleft\", legend=levels(as.factor(V(g)$pid_type)), col = col, bty = \"n\", pch=20 , pt.cex = 3, cex = 1, text.col=col , horiz = FALSE, inset = c(0.1, -0.1))"
      ],
      "outputs": [],
      "execution_count": null,
      "metadata": {
        "collapsed": false,
        "outputHidden": false,
        "inputHidden": false
      }
    },
    {
      "cell_type": "code",
      "source": [
        "# Generate a list of formatted citations in APA format for the publications\n",
        "\n",
        "ids <- substring(publications[,1], 17)\n",
        "ids <- paste(ids, collapse = ',')\n",
        "url <- paste('https://api.datacite.org/dois?style=apa&page[size]=250&sort=created&ids=', ids, sep = '')\n",
        "response <- GET(url, accept(\"text/x-bibliography\"))\n",
        "display_markdown('## Publications')\n",
        "display_markdown(content(response, as = 'text'))"
      ],
      "outputs": [],
      "execution_count": null,
      "metadata": {
        "collapsed": false,
        "outputHidden": false,
        "inputHidden": false
      }
    },
    {
      "cell_type": "code",
      "source": [
        "# Generate a list of formatted citations in APA format for the datasets\n",
        "\n",
        "ids <- substring(datasets[,1], 17)\n",
        "ids <- paste(ids, collapse = ',')\n",
        "url <- paste('https://api.datacite.org/dois?style=apa&page[size]=250&sort=created&ids=', ids, sep = '')\n",
        "response <- GET(url, accept(\"text/x-bibliography\"))\n",
        "display_markdown('## Datasets')\n",
        "display_markdown(content(response, as = 'text'))"
      ],
      "outputs": [],
      "execution_count": null,
      "metadata": {
        "collapsed": false,
        "outputHidden": false,
        "inputHidden": false
      }
    }
  ],
  "metadata": {
    "kernel_info": {
      "name": "ir"
    },
    "language_info": {
      "name": "R",
      "codemirror_mode": "r",
      "pygments_lexer": "r",
      "mimetype": "text/x-r-source",
      "file_extension": ".r",
      "version": "3.6.0"
    },
    "kernelspec": {
      "name": "ir",
      "language": "R",
      "display_name": "R"
    },
    "nteract": {
      "version": "0.14.3"
    }
  },
  "nbformat": 4,
  "nbformat_minor": 0
}