{
  "cells": [
    {
      "cell_type": "markdown",
      "source": [
        "# PID Graph for datasets related to FREYA\n",
        "\n",
        "This notebook uses the [DataCite GraphQL API](https://api.datacite.org/graphql) to fetch all connections to a publication with a DataCite DOI.\n",
        "\n",
        "## Prepare the R GraphQl client\n",
        "Load necessary libraries and set up the API endpoint."
      ],
      "metadata": {}
    },
    {
      "cell_type": "code",
      "source": [
        "library(\"httr\")\n",
        "library(\"ghql\")\n",
        "library(\"jsonlite\")\n",
        "library(\"IRdisplay\")\n",
        "library(\"dplyr\")\n",
        "library(\"purrr\")\n",
        "library(\"igraph\")\n",
        "\n",
        "cli <- GraphqlClient$new(\n",
        "  url = \"https://api.datacite.org/graphql\"\n",
        ")\n",
        "qry <- Query$new()"
      ],
      "outputs": [],
      "execution_count": 66,
      "metadata": {
        "collapsed": false,
        "outputHidden": false,
        "inputHidden": false
      }
    },
    {
      "cell_type": "markdown",
      "source": [
        "## Generate the GraphQL query\n",
        "In this query, we are looking through all DataCite DOIs that are assigned to datasets and finding those that include the FREYA grant number within a funding reference. \n",
        "\n",
        "Then for each of those datasets, we're asking for:\n",
        "\n",
        "1. identifiers for the creators (in this case ORCID IDs)\n",
        "2. identifiers for items related to that dataset (citations, versions, etc.)\n",
        "3. identifiers for any funders related to that dataset\n",
        "\n",
        "In this example, we already know that the datasets will have the EC as a related funder, but pulling in the `funderIdentifier` will allow us to plot that information as part of our graph."
      ],
      "metadata": {}
    },
    {
      "cell_type": "code",
      "source": [
        "query <- '{\n",
        "  datasets(query: \"fundingReferences.awardNumber:777523\") {\n",
        "    totalCount\n",
        "    nodes {\n",
        "      id\n",
        "      creators {\n",
        "        id\n",
        "      }\n",
        "      publications {\n",
        "        nodes {\n",
        "          id\n",
        "        }\n",
        "      }\n",
        "      datasets {\n",
        "        nodes {\n",
        "          id\n",
        "        }\n",
        "      }\n",
        "      fundingReferences {\n",
        "        funderIdentifier\n",
        "      }\n",
        "    }\n",
        "  }\n",
        "}'"
      ],
      "outputs": [],
      "execution_count": 67,
      "metadata": {
        "collapsed": false,
        "outputHidden": false,
        "inputHidden": false
      }
    },
    {
      "cell_type": "markdown",
      "source": [
        "## Run the query\n",
        "We'll run the query and process the JSON response it returns."
      ],
      "metadata": {}
    },
    {
      "cell_type": "code",
      "source": [
        "qry$query('getdata', query)\n",
        "data <- fromJSON(cli$exec(qry$queries$getdata))"
      ],
      "outputs": [],
      "execution_count": 68,
      "metadata": {
        "collapsed": false,
        "outputHidden": false,
        "inputHidden": false
      }
    },
    {
      "cell_type": "markdown",
      "source": [
        "## Display the number of datasets\n",
        "This step is just to check our work. We already know there should be only 2 matching datasets (as of 6 June 2019 when this notebook was first created). "
      ],
      "metadata": {}
    },
    {
      "cell_type": "code",
      "source": [
        "display_json(data$data$datasets$totalCount)"
      ],
      "outputs": [
        {
          "output_type": "display_data",
          "data": {
            "application/json": 2
          },
          "metadata": {}
        }
      ],
      "execution_count": 69,
      "metadata": {
        "collapsed": false,
        "outputHidden": false,
        "inputHidden": false
      }
    },
    {
      "cell_type": "markdown",
      "source": [
        "Now let's prepare the data frame. We're defining what all of the nodes are for our graph. "
      ],
      "metadata": {}
    },
    {
      "cell_type": "code",
      "source": [
        "datasets <- data.frame(id=map(data$data$datasets$nodes$id, ~ discard(.x, ~ is.na(.x))), pid_type=c('dataset'))\n",
        "researchers <- data.frame(id=bind_rows(data$data$datasets$nodes$creators)[,1], pid_type=c('researcher'))\n",
        "references <- data.frame(id=bind_rows(map(data$data$datasets$nodes$publications$nodes$id, ~ discard(.x, ~ is.na(.x))), pid_type=c('publication')))\n",
        "dataset_references <- data.frame(id=bind_rows(map(data$data$datasets$nodes$datasets$nodes$id, ~ discard(.x, ~ is.na(.x))), pid_type=c('dataset')))\n",
        "funders <- data.frame(id=bind_rows(data$data$datasets$nodes$fundingReferences)[,1], pid_type=c('funder'))\n",
        "nodes <- unique(rbind(datasets, researchers, references, dataset_references, funders))\n",
        "\n",
        "nodes <- nodes %>% filter(!is.na(as.character(id))) %>% mutate(id = ifelse(startsWith(as.character(id), '10.'), paste('https://doi.org/', id, sep=''), as.character(id)))\n",
        "\n",
        "# remove duplicates\n",
        "nodes <- nodes %>% distinct(id, .keep_all = TRUE)\n",
        "nodes"
      ],
      "outputs": [
        {
          "output_type": "error",
          "ename": "ERROR",
          "evalue": "Error in data.frame(id = bind_rows(map(data$data$datasets$nodes$publications$nodes$id, : arguments imply differing number of rows: 0, 1\n",
          "traceback": [
            "Error in data.frame(id = bind_rows(map(data$data$datasets$nodes$publications$nodes$id, : arguments imply differing number of rows: 0, 1\nTraceback:\n",
            "1. data.frame(id = bind_rows(map(data$data$datasets$nodes$publications$nodes$id, \n .     ~discard(.x, ~is.na(.x)))), pid_type = c(\"publication\"))",
            "2. stop(gettextf(\"arguments imply differing number of rows: %s\", \n .     paste(unique(nrows), collapse = \", \")), domain = NA)"
          ]
        }
      ],
      "execution_count": 70,
      "metadata": {
        "collapsed": false,
        "outputHidden": false,
        "inputHidden": false
      }
    },
    {
      "cell_type": "markdown",
      "source": [
        "Then we define the edges for our graph. We loop through the nodes because each node could have multiple edges."
      ],
      "metadata": {}
    },
    {
      "cell_type": "code",
      "source": [
        "edges <- data.frame(to=character(), from=character())\n",
        "nodes_with_creators <- bind_rows(data$data$datasets$nodes) %>% filter(lengths(creators) != 0)\n",
        "for (i in 1:nrow(nodes_with_creators)) {\n",
        "  row <- data.frame(to=unlist(nodes_with_creators[i,2]), from=nodes_with_creators[i,1])\n",
        "  edges <- unique(rbind(edges, row))\n",
        "}\n",
        "\n",
        "nodes_with_references <- bind_rows(data$data$datasets$nodes) %>% filter(lengths(relatedIdentifiers) != 0)\n",
        "for (i in 1:nrow(nodes_with_references)) {\n",
        "  row <- data.frame(to=unlist(nodes_with_references[i,3]), from=nodes_with_references[i,1])\n",
        "  edges <- unique(rbind(edges, row))\n",
        "}\n",
        "\n",
        "nodes_with_funding <- bind_rows(data$data$datasets$nodes) %>% filter(lengths(fundingReferences) != 0)\n",
        "for (i in 1:nrow(nodes_with_funding)) {\n",
        "  row <- data.frame(to=unlist(nodes_with_funding[i,4]), from=nodes_with_funding[i,1])\n",
        "  edges <- unique(rbind(edges, row))\n",
        "}"
      ],
      "outputs": [],
      "execution_count": null,
      "metadata": {
        "collapsed": false,
        "outputHidden": false,
        "inputHidden": false
      }
    },
    {
      "cell_type": "markdown",
      "source": [
        "## Generating the graph\n",
        "We're going to make sure that all of the DOIs we're receiving are being expressed as URLs. This will help us with de-duping and filtering in later steps."
      ],
      "metadata": {}
    },
    {
      "cell_type": "code",
      "source": [
        "edges <- edges %>% filter(!is.na(as.character(to))) %>% mutate(to = ifelse(startsWith(as.character(to), '10.'), paste('https://doi.org/', to, sep=''), as.character(to)))"
      ],
      "outputs": [],
      "execution_count": null,
      "metadata": {
        "collapsed": false,
        "outputHidden": false,
        "inputHidden": false
      }
    },
    {
      "cell_type": "markdown",
      "source": [
        "Next we format the graph for display. Here are the formatting choices we're making. \n",
        "\n",
        "1. We're going to display only the unique edges and nodes. \n",
        "2. We're coloring datasets red, researchers green, publications blue, and funders yellow.\n",
        "3. We're making the nodes a nice size for viewing. \n",
        "4. This is not a directed graph (`relatedidentifiers` don't specify a relational direction), so we don't need to have any arrows. "
      ],
      "metadata": {}
    },
    {
      "cell_type": "code",
      "source": [
        "g <- graph_from_data_frame(d=unique(edges), vertices=unique(nodes))\n",
        "\n",
        "# Node colors\n",
        "col = c('#e45718','#fecf59','#48b1f4','#53c48c')\n",
        "V(g)[(V(g)$pid_type==\"publication\")]$color<-'#48b1f4'\n",
        "V(g)[(V(g)$pid_type==\"researcher\")]$color<-'#53c48c'\n",
        "V(g)[(V(g)$pid_type==\"funder\")]$color<-'#fecf59'\n",
        "V(g)[(V(g)$pid_type==\"dataset\")]$color<-'#e45718'\n",
        "\n",
        "V(g)$size <- 8\n",
        "E(g)$arrow.mode <- 0\n",
        "l <- layout_with_dh(g)"
      ],
      "outputs": [],
      "execution_count": null,
      "metadata": {
        "collapsed": false,
        "outputHidden": false,
        "inputHidden": false
      }
    },
    {
      "cell_type": "markdown",
      "source": [
        "And finally, we plot the actual graph. "
      ],
      "metadata": {}
    },
    {
      "cell_type": "code",
      "source": [
        "plot(g, vertex.label=NA, layout=l, arrow.mode=0)\n",
        "\n",
        "# Add a legend\n",
        "legend(\"bottomleft\", legend=levels(as.factor(V(g)$pid_type)), col = col, bty = \"n\", pch=20 , pt.cex = 3, cex = 1, text.col=col , horiz = FALSE, inset = c(0.1, -0.1))"
      ],
      "outputs": [],
      "execution_count": null,
      "metadata": {
        "collapsed": false,
        "outputHidden": false,
        "inputHidden": false
      }
    },
    {
      "cell_type": "markdown",
      "source": [
        "## Generate resource lists\n",
        "We can generate a list of the datasets in APA format. "
      ],
      "metadata": {}
    },
    {
      "cell_type": "code",
      "source": [
        "ids <- substring(datasets[,1], 17)\n",
        "ids <- paste(ids, collapse = ',')\n",
        "url <- paste('https://api.datacite.org/dois?style=apa&page[size]=250&sort=created&ids=', ids, sep = '')\n",
        "response <- GET(url, accept(\"text/x-bibliography\"))\n",
        "display_markdown('## Datasets')\n",
        "display_markdown(content(response, as = 'text'))"
      ],
      "outputs": [],
      "execution_count": null,
      "metadata": {
        "collapsed": false,
        "outputHidden": false,
        "inputHidden": false
      }
    },
    {
      "cell_type": "markdown",
      "source": [
        "We can also generate a list of all of the publications that were related to these items. "
      ],
      "metadata": {}
    },
    {
      "cell_type": "code",
      "source": [
        "ids <- references[,1]\n",
        "ids <- paste(ids, collapse = ',')\n",
        "url <- paste('https://api.datacite.org/dois?style=apa&page[size]=250&sort=created&ids=', ids, sep = '')\n",
        "response <- GET(url, accept(\"text/x-bibliography\"))\n",
        "display_markdown('## References')\n",
        "display_markdown(content(response, as = 'text'))  "
      ],
      "outputs": [],
      "execution_count": null,
      "metadata": {
        "collapsed": false,
        "outputHidden": false,
        "inputHidden": false
      }
    }
  ],
  "metadata": {
    "kernel_info": {
      "name": "ir"
    },
    "language_info": {
      "name": "R",
      "codemirror_mode": "r",
      "pygments_lexer": "r",
      "mimetype": "text/x-r-source",
      "file_extension": ".r",
      "version": "3.6.0"
    },
    "kernelspec": {
      "name": "ir",
      "language": "R",
      "display_name": "R"
    },
    "nteract": {
      "version": "0.14.3"
    }
  },
  "nbformat": 4,
  "nbformat_minor": 0
}