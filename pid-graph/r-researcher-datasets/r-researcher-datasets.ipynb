{
  "cells": [
    {
      "cell_type": "markdown",
      "source": [
        "# Publication references by researcher\n",
        "\n",
        "This notebook uses the [DataCite GraphQL API](https://api.datacite.org/graphql) to fetch all DataCite references of the DataCite publications authored by a particular researcher, using his/her ORCID ID."
      ],
      "metadata": {}
    },
    {
      "cell_type": "code",
      "source": [
        "# Prepare the R graphql client.\n",
        "\n",
        "library(\"httr\")\n",
        "library(\"ghql\")\n",
        "library(\"jsonlite\")\n",
        "library(\"IRdisplay\")\n",
        "library(\"dplyr\")\n",
        "library(\"igraph\")\n",
        "\n",
        "cli <- GraphqlClient$new(\n",
        "  url = \"https://api.datacite.org/graphql\"\n",
        ")\n",
        "qry <- Query$new()"
      ],
      "outputs": [],
      "execution_count": 1742,
      "metadata": {
        "collapsed": false,
        "outputHidden": false,
        "inputHidden": false
      }
    },
    {
      "cell_type": "code",
      "source": [
        "# Generate the GraphQL query: find the researcher by ORCID ID, then fetch the first 50 publications with DataCite DOIs linked to that ORCID account.\n",
        "\n",
        "query <- '{\n",
        "   researcher(id: \"https://orcid.org/0000-0003-1419-2405\") {\n",
        "    id\n",
        "    name\n",
        "    softwares(first: 50) {\n",
        "      totalCount\n",
        "      nodes {\n",
        "        id\n",
        "        relatedIdentifiers {\n",
        "          relationType\n",
        "          relatedIdentifier\n",
        "          relatedIdentifierType\n",
        "        }\n",
        "      }\n",
        "    }\n",
        "  }\n",
        "}'"
      ],
      "outputs": [],
      "execution_count": 1743,
      "metadata": {
        "collapsed": false,
        "outputHidden": false,
        "inputHidden": false
      }
    },
    {
      "cell_type": "code",
      "source": [
        "# Run the query and parse the JSON response\n",
        "\n",
        "qry$query('getdata', query)\n",
        "data <- fromJSON(cli$exec(qry$queries$getdata))"
      ],
      "outputs": [],
      "execution_count": 1744,
      "metadata": {
        "collapsed": false,
        "outputHidden": false,
        "inputHidden": false
      }
    },
    {
      "cell_type": "code",
      "source": [
        "# Get the name of the researcher with ORCID ID https://orcid.org/0000-0003-1419-2405\n",
        "\n",
        "display_markdown(data$data$researcher$name)"
      ],
      "outputs": [
        {
          "output_type": "display_data",
          "data": {
            "text/markdown": [
              "Martin Fenner"
            ]
          },
          "metadata": {}
        }
      ],
      "execution_count": 1745,
      "metadata": {
        "collapsed": false,
        "outputHidden": false,
        "inputHidden": false
      }
    },
    {
      "cell_type": "code",
      "source": [
        "# Get the number of publications\n",
        "\n",
        "display_json(data$data$researcher$softwares$totalCount)"
      ],
      "outputs": [
        {
          "output_type": "error",
          "ename": "ERROR",
          "evalue": "Error in prepare_content(isbinary, data, file): Either need to specify data or file, but not both\n",
          "traceback": [
            "Error in prepare_content(isbinary, data, file): Either need to specify data or file, but not both\nTraceback:\n",
            "1. display_json(data$data$researcher$datasets$totalCount)",
            "2. display_raw(\"application/json\", FALSE, data, file)",
            "3. prepare_content(isbinary, data, file)",
            "4. stop(\"Either need to specify data or file, but not both\")"
          ]
        }
      ],
      "execution_count": 1746,
      "metadata": {
        "collapsed": false,
        "outputHidden": false,
        "inputHidden": false
      }
    },
    {
      "cell_type": "code",
      "source": [
        "# generate data frame for nodes\n",
        "researchers <- data.frame(id=data$data$researcher$id, pid_type=c('researcher'))\n",
        "softwares <- data.frame(id=data$data$researcher$softwares$nodes$id, pid_type=c('dataset'))\n",
        "references <- data.frame(id=bind_rows(data$data$researcher$softwares$nodes$relatedIdentifiers)[,2], pid_type=c('publication'))\n",
        "nodes <- unique(rbind(researchers, softwares, references))\n",
        "\n",
        "# generate data frame for edges\n",
        "# loop through nodes, as they can have more than one edge\n",
        "edges <- data.frame(to=datasets[,1], from=data$data$researcher$id)\n",
        "nodes_with_references <- bind_rows(data$data$researcher$softwares$nodes) %>% filter(lengths(relatedIdentifiers) != 0)\n",
        "e <- data.frame(to=character(), from=character(),stringsAsFactors=FALSE)\n",
        "for (i in 1:nrow(nodes_with_references)) {\n",
        "  # this is a workaround to capture all the edges\n",
        "  row <- data.frame(to=unlist(nodes_with_references[i,2]), from=nodes_with_references[i,1]) %>% filter(startsWith(as.character(to), '10.'))\n",
        "  edges <- unique(rbind(edges, row))\n",
        "}\n",
        "\n",
        "edges <- edges %>% mutate(to = ifelse(startsWith(as.character(to), '10.'), paste('https://doi.org/', to, sep=''), as.character(to)))\n",
        "\n",
        "# Some vertex names in edge list are not listed in vertex data frame\n",
        "# g <- graph_from_data_frame(d=edges, vertices=nodes)\n",
        "#V(g)$color <- c('#48b1f4', '#47a878')[1+(V(g)$pid_type==\"researcher\")]\n",
        "g <- graph_from_data_frame(d=edges)\n",
        "V(g)$size <- 4\n",
        "E(g)$arrow.mode <- 0\n",
        "l <- layout_with_dh(g)\n",
        "plot(g, vertex.label=NA, layout=l, arrow.mode=0)"
      ],
      "outputs": [],
      "execution_count": null,
      "metadata": {
        "collapsed": false,
        "outputHidden": false,
        "inputHidden": false
      }
    },
    {
      "cell_type": "code",
      "source": [
        "# Generate a list of formatted citations in APA format for the publications\n",
        "\n",
        "ids <- substring(publications[,1], 17)\n",
        "ids <- paste(ids, collapse = ',')\n",
        "url <- paste('https://api.datacite.org/dois?style=apa&page[size]=250&sort=created&ids=', ids, sep = '')\n",
        "response <- GET(url, accept(\"text/x-bibliography\"))\n",
        "display_markdown('## Publications')\n",
        "display_markdown(content(response, as = 'text'))"
      ],
      "outputs": [],
      "execution_count": null,
      "metadata": {
        "collapsed": false,
        "outputHidden": false,
        "inputHidden": false
      }
    },
    {
      "cell_type": "code",
      "source": [
        "# Generate a list of formatted citations in APA format for the references (if they are DataCite DOIs)\n",
        "\n",
        "ids <- references[,1]\n",
        "ids <- paste(ids, collapse = ',')\n",
        "url <- paste('https://api.datacite.org/dois?style=apa&page[size]=250&sort=created&ids=', ids, sep = '')\n",
        "response <- GET(url, accept(\"text/x-bibliography\"))\n",
        "display_markdown('## References')\n",
        "display_markdown(content(response, as = 'text'))    "
      ],
      "outputs": [],
      "execution_count": null,
      "metadata": {
        "collapsed": false,
        "outputHidden": false,
        "inputHidden": false
      }
    }
  ],
  "metadata": {
    "kernel_info": {
      "name": "ir"
    },
    "language_info": {
      "name": "R",
      "codemirror_mode": "r",
      "pygments_lexer": "r",
      "mimetype": "text/x-r-source",
      "file_extension": ".r",
      "version": "3.6.0"
    },
    "kernelspec": {
      "name": "ir",
      "language": "R",
      "display_name": "R"
    },
    "nteract": {
      "version": "0.15.0"
    }
  },
  "nbformat": 4,
  "nbformat_minor": 0
}